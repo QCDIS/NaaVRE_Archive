{
 "cells": [
  {
   "cell_type": "markdown",
   "metadata": {},
   "source": [
    "## Component Containerizer demo notebook"
   ]
  },
  {
   "cell_type": "markdown",
   "metadata": {},
   "source": [
    "This notebook demonstrates the main functionalities of the Component Containerizer (CC) tool shipped with the VRE extension for Jupyter Lab. This tool is highly integrated with the notebook and carries out real-time analysis of the code to infere the strucutre of potential FAIRCells."
   ]
  },
  {
   "cell_type": "markdown",
   "metadata": {},
   "source": [
    "### Step 1 - Intro"
   ]
  },
  {
   "cell_type": "markdown",
   "metadata": {},
   "source": [
    "<img src=\"side_icon.png\"/>"
   ]
  },
  {
   "cell_type": "markdown",
   "metadata": {},
   "source": [
    "Click on this icon in the left side panel to open the CC interface. As you can see, not much information is present since there is no Python code yet."
   ]
  },
  {
   "cell_type": "markdown",
   "metadata": {},
   "source": [
    "## Step 2 - Title"
   ]
  },
  {
   "cell_type": "markdown",
   "metadata": {},
   "source": [
    "Below, there is a first sample code cell containing a comment. The CC will infere from this content that the top commment is the desired title for a cell. Click on the cell below to see this in effect. Try changing the title and save the notebook to see the real-time update in the CC."
   ]
  },
  {
   "cell_type": "code",
   "execution_count": null,
   "metadata": {},
   "outputs": [],
   "source": [
    "# Test title"
   ]
  },
  {
   "cell_type": "markdown",
   "metadata": {},
   "source": [
    "## Step 3 - Inputs"
   ]
  },
  {
   "cell_type": "markdown",
   "metadata": {},
   "source": [
    "Now we can add more structure by providing further code. The CC inferes the inputs for a cell by looking at what references are undefined inside of it. For example, if a variable is used without being defined, it means it must come from some other place. By selecting the cell below, you will see how the CC identifies \"foo\" as potential input to this cell."
   ]
  },
  {
   "cell_type": "code",
   "execution_count": 1,
   "metadata": {},
   "outputs": [],
   "source": [
    "# Test input\n",
    "\n",
    "var = foo"
   ]
  },
  {
   "cell_type": "markdown",
   "metadata": {},
   "source": [
    "## Step 4 - Ouputs"
   ]
  },
  {
   "cell_type": "markdown",
   "metadata": {},
   "source": [
    "In a similar way, the CC inferes a cell's outputs by looking at others' cells potential inputs in relation to the reference inside the selected cell. For example, the cell below makes use of \"var\" which is locally undefined but provided by the previous cell."
   ]
  },
  {
   "cell_type": "code",
   "execution_count": 2,
   "metadata": {},
   "outputs": [],
   "source": [
    "# Use output\n",
    "\n",
    "var2 = var"
   ]
  },
  {
   "cell_type": "markdown",
   "metadata": {},
   "source": [
    "## Step 5 - Parameters"
   ]
  },
  {
   "cell_type": "markdown",
   "metadata": {},
   "source": [
    "The CC inferes the parameters from the usage of values inside a cell that do not constitute potential inputs nor outputs, but that influence the execution. For example, the arguments passed to a function call can be identified as potential parameters by the CC. Below we define a toy function to be used by the cell."
   ]
  },
  {
   "cell_type": "markdown",
   "metadata": {},
   "source": [
    "By clicking on the cell below, you can see how the CC will list \"param1\" and \"param2\" as potential parameters."
   ]
  },
  {
   "cell_type": "code",
   "execution_count": 1,
   "metadata": {},
   "outputs": [],
   "source": [
    "# Parameters example\n",
    "\n",
    "def function(param1=0, param2=''):\n",
    "    return '%d-%s' % (param1, param2)\n",
    "\n",
    "result = function(param1=3, param2='test')"
   ]
  },
  {
   "cell_type": "markdown",
   "metadata": {},
   "source": [
    "Moreover, we can add more code elements to achieve a cell with all the aspects present."
   ]
  },
  {
   "cell_type": "code",
   "execution_count": null,
   "metadata": {},
   "outputs": [],
   "source": [
    "# Complete example\n",
    "\n",
    "def function(param1=0, param2=''):\n",
    "    return '%d-%s' % (param1, param2)\n",
    "\n",
    "result = function(param1=3, param2='test')\n",
    "foo = var"
   ]
  },
  {
   "cell_type": "markdown",
   "metadata": {},
   "source": [
    "## Step 5 - Dependencies"
   ]
  },
  {
   "cell_type": "markdown",
   "metadata": {},
   "source": [
    "It is often the case that our code requires certain modules from external libraries. Since the containerized cell must be capable of independent execution, it is crucial for the CC to spot the dependencies in order to handle them correctly at a later time. In order to do this, the CC detects when a cell is making use of symbols that relates to one or more imports statements accross the whole notebook."
   ]
  },
  {
   "cell_type": "code",
   "execution_count": null,
   "metadata": {},
   "outputs": [],
   "source": [
    "from random import gauss"
   ]
  },
  {
   "cell_type": "markdown",
   "metadata": {},
   "source": [
    "By clicking on the cell below, the CC will detect that the function gauss belongs to the parent module random which is imported by a different cell."
   ]
  },
  {
   "cell_type": "code",
   "execution_count": null,
   "metadata": {},
   "outputs": [],
   "source": [
    "# Test dependencies\n",
    "\n",
    "p1 = 1\n",
    "test = gauss(p1, var2)"
   ]
  }
 ],
 "metadata": {
  "kernelspec": {
   "display_name": "Python 3",
   "language": "python",
   "name": "python3"
  },
  "language_info": {
   "codemirror_mode": {
    "name": "ipython",
    "version": 3
   },
   "file_extension": ".py",
   "mimetype": "text/x-python",
   "name": "python",
   "nbconvert_exporter": "python",
   "pygments_lexer": "ipython3",
   "version": "3.8.6"
  }
 },
 "nbformat": 4,
 "nbformat_minor": 4
}